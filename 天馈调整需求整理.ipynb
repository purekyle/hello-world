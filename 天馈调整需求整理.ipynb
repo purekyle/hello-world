{
 "cells": [
  {
   "cell_type": "code",
   "execution_count": 5,
   "metadata": {},
   "outputs": [],
   "source": [
    "import pandas as pd\n",
    "\n",
    "ZiCan= r'E:\\网优工作\\BaseInformation\\资管信息导出0915.csv'\n",
    "\n",
    "HuaCan = r'E:\\网优工作\\BaseInformation\\华为工参0911.csv'\n",
    "\n",
    "Info = r'E:\\网优工作\\BaseInformation\\天馈整理.xlsx'\n",
    "\n",
    "CellList=r'Desktop\\工作簿1.xlsx'\n",
    "\n",
    "#相关文件导入\n",
    "antinfo= pd.read_csv(ZiCan,usecols=['所属小区','挂高','方向角','所属机房/资源点','机械倾角','总倾角'],encoding='GBK')\n",
    "antinfo.rename(columns={'所属小区':'小区CI',\"所属机房/资源点\":\"机房\"},inplace=True)\n",
    "siteinfo = pd.read_csv(HuaCan,usecols=['ECGI','县市','最新网元名称','基站标识（ENODEBID）','小区标识','频段'],encoding='gbk')\n",
    "siteinfo['小区CI']=256*siteinfo['基站标识（ENODEBID）'] + siteinfo['小区标识']\n",
    "siteinfo.rename(columns={'县市':'区县','最新网元名称':'基站名称','ECGI':'CGI'},inplace=True)\n",
    "S1=pd.read_excel(Info,'S1主控',usecols=['ECGI','最新网元名称'])\n",
    "S1.rename(columns={'ECGI':'CGI','最新网元名称':'S1'},inplace=True)\n",
    "highspeed=pd.read_excel(Info,'高速主控',usecols=['CGI','高速线路'])\n",
    "contact=pd.read_excel(Info,'区域联系人')\n",
    "Nopermit = pd.read_excel(Info,'无法调整小区',usecols=['小区CGI','无法调整原因'])\n",
    "Nopermit.rename(columns={'小区CGI':'CGI'},inplace=True)\n",
    "work=pd.read_excel(CellList,sheet_name=0,usecols=['CGI','备注'])\n",
    "\n",
    "#小区信息匹配\n",
    "cellinfo_an=pd.merge(siteinfo,antinfo,how='left',on='小区CI')\n",
    "cellinfo_S1=pd.merge(cellinfo_an,S1,how='left',on='CGI')\n",
    "cellinfo=pd.merge(cellinfo_S1,highspeed,how='left',on='CGI')\n",
    "temp_work=pd.merge(work,cellinfo,how='left',on='CGI')\n",
    "temp_work1=pd.merge(temp_work,contact,how='left',on='区县')\n",
    "workfile=pd.merge(temp_work1,Nopermit,how='left',on='CGI')\n",
    "workfile['派单原因']='重叠覆盖'\n",
    "\n",
    "#设定列序\n",
    "order=['区县','CGI','基站名称','机房','频段','小区CI','派单原因','挂高','方向角','总倾角','联系人','电话','备注','无法调整原因','S1','高速线路',\"机械倾角\"]\n",
    "workfile=workfile[order]\n",
    "\n",
    "#导出数据到EXCEL\n",
    "workfile.to_excel(r'Desktop\\天馈整理导出0915V1.xlsx',index=False)\n"
   ]
  },
  {
   "cell_type": "markdown",
   "metadata": {},
   "source": [
    "当资管信息导出第二列有字符串数据时，程序会出错，有些数据匹配不出来，3DMIMO一般不能匹配不出来，需要先匹配NR小区号"
   ]
  }
 ],
 "metadata": {
  "kernelspec": {
   "display_name": "Python 3",
   "language": "python",
   "name": "python3"
  },
  "language_info": {
   "codemirror_mode": {
    "name": "ipython",
    "version": 3
   },
   "file_extension": ".py",
   "mimetype": "text/x-python",
   "name": "python",
   "nbconvert_exporter": "python",
   "pygments_lexer": "ipython3",
   "version": "3.7.7"
  }
 },
 "nbformat": 4,
 "nbformat_minor": 4
}
